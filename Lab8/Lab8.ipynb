{
 "cells": [
  {
   "cell_type": "code",
   "execution_count": 5,
   "id": "2bdf731e",
   "metadata": {},
   "outputs": [
    {
     "name": "stdout",
     "output_type": "stream",
     "text": [
      "      pixel1  pixel2  pixel3  pixel4  pixel5  pixel6  pixel7  pixel8  pixel9  \\\n",
      "0        0.0     0.0     0.0     0.0     0.0     0.0     0.0     0.0     0.0   \n",
      "1        0.0     0.0     0.0     0.0     0.0     0.0     0.0     0.0     0.0   \n",
      "2        0.0     0.0     0.0     0.0     0.0     0.0     0.0     0.0     0.0   \n",
      "3        0.0     0.0     0.0     0.0     0.0     0.0     0.0     0.0     0.0   \n",
      "4        0.0     0.0     0.0     0.0     0.0     0.0     0.0     0.0     0.0   \n",
      "...      ...     ...     ...     ...     ...     ...     ...     ...     ...   \n",
      "1995     0.0     0.0     0.0     0.0     0.0     0.0     0.0     0.0     0.0   \n",
      "1996     0.0     0.0     0.0     0.0     0.0     0.0     0.0     0.0     0.0   \n",
      "1997     0.0     0.0     0.0     0.0     0.0     0.0     0.0     0.0     0.0   \n",
      "1998     0.0     0.0     0.0     0.0     0.0     0.0     0.0     0.0     0.0   \n",
      "1999     0.0     0.0     0.0     0.0     0.0     0.0     0.0     0.0     0.0   \n",
      "\n",
      "      pixel10  ...  pixel775  pixel776  pixel777  pixel778  pixel779  \\\n",
      "0         0.0  ...       0.0       0.0       0.0       0.0       0.0   \n",
      "1         0.0  ...       0.0       0.0       0.0       0.0       0.0   \n",
      "2         0.0  ...       0.0       0.0       0.0       0.0       0.0   \n",
      "3         0.0  ...       0.0       0.0       0.0       0.0       0.0   \n",
      "4         0.0  ...       0.0       0.0       0.0       0.0       0.0   \n",
      "...       ...  ...       ...       ...       ...       ...       ...   \n",
      "1995      0.0  ...       0.0       0.0       0.0       0.0       0.0   \n",
      "1996      0.0  ...       0.0       0.0       0.0       0.0       0.0   \n",
      "1997      0.0  ...       0.0       0.0       0.0       0.0       0.0   \n",
      "1998      0.0  ...       0.0       0.0       0.0       0.0       0.0   \n",
      "1999      0.0  ...       0.0       0.0       0.0       0.0       0.0   \n",
      "\n",
      "      pixel780  pixel781  pixel782  pixel783  pixel784  \n",
      "0          0.0       0.0       0.0       0.0       0.0  \n",
      "1          0.0       0.0       0.0       0.0       0.0  \n",
      "2          0.0       0.0       0.0       0.0       0.0  \n",
      "3          0.0       0.0       0.0       0.0       0.0  \n",
      "4          0.0       0.0       0.0       0.0       0.0  \n",
      "...        ...       ...       ...       ...       ...  \n",
      "1995       0.0       0.0       0.0       0.0       0.0  \n",
      "1996       0.0       0.0       0.0       0.0       0.0  \n",
      "1997       0.0       0.0       0.0       0.0       0.0  \n",
      "1998       0.0       0.0       0.0       0.0       0.0  \n",
      "1999       0.0       0.0       0.0       0.0       0.0  \n",
      "\n",
      "[2000 rows x 784 columns]\n"
     ]
    }
   ],
   "source": [
    "from sklearn.datasets import fetch_openml \n",
    "mnist = fetch_openml('mnist_784', version=1) \n",
    "X = mnist[\"data\"] \n",
    "\n",
    "X = X[:2000]\n",
    "print(X)\n",
    "\n",
    "\n"
   ]
  },
  {
   "cell_type": "code",
   "execution_count": null,
   "id": "c44f26f6",
   "metadata": {},
   "outputs": [],
   "source": []
  }
 ],
 "metadata": {
  "kernelspec": {
   "display_name": "Python 3 (ipykernel)",
   "language": "python",
   "name": "python3"
  },
  "language_info": {
   "codemirror_mode": {
    "name": "ipython",
    "version": 3
   },
   "file_extension": ".py",
   "mimetype": "text/x-python",
   "name": "python",
   "nbconvert_exporter": "python",
   "pygments_lexer": "ipython3",
   "version": "3.9.12"
  }
 },
 "nbformat": 4,
 "nbformat_minor": 5
}
