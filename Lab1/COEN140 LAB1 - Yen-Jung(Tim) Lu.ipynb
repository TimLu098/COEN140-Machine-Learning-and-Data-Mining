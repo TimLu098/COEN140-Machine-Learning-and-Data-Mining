{
 "cells": [
  {
   "cell_type": "code",
   "execution_count": 1,
   "id": "06214831",
   "metadata": {},
   "outputs": [
    {
     "name": "stdout",
     "output_type": "stream",
     "text": [
      "[1, 3, 5, 7, 9, 11, 13, 15, 17, 19, 21, 23, 25, 27, 29, 31, 33, 35, 37, 39]\n"
     ]
    }
   ],
   "source": [
    "def odd(n):\n",
    "    num = []\n",
    "    for i in range(1, n*2, 2):\n",
    "        num.append(i)\n",
    "    return num\n",
    "\n",
    "print(odd(20))\n",
    "\n",
    "\n"
   ]
  },
  {
   "cell_type": "code",
   "execution_count": 23,
   "id": "bc68b90a",
   "metadata": {},
   "outputs": [
    {
     "name": "stdout",
     "output_type": "stream",
     "text": [
      "[['Daniel', '21', 'MECH'], ['Joe', '23', 'BIOE'], ['Mike', '22', 'COEN'], ['Ryan', '19', 'ELEN'], ['Shannon', '18', 'AMTH']]\n",
      "[['Shannon', '18', 'AMTH'], ['Ryan', '19', 'ELEN'], ['Daniel', '21', 'MECH'], ['Mike', '22', 'COEN'], ['Joe', '23', 'BIOE']]\n"
     ]
    }
   ],
   "source": [
    "import csv\n",
    "import operator\n",
    "def csv_read():\n",
    "    reader = csv.reader(open(\"students.csv\"))\n",
    "    data = []\n",
    "    for line in reader:\n",
    "        data.append(line)\n",
    "        \n",
    "    \n",
    "    #data= sorted(data, key=str.lower)\n",
    "    \n",
    "    data = sorted(data, key=operator.itemgetter(0))\n",
    "    print(data)\n",
    "    \n",
    "    data = sorted(data, key=operator.itemgetter(1))\n",
    "    print(data)\n",
    "    \n",
    "csv_read()"
   ]
  },
  {
   "cell_type": "code",
   "execution_count": 2,
   "id": "def1f2bd",
   "metadata": {},
   "outputs": [
    {
     "name": "stdout",
     "output_type": "stream",
     "text": [
      "{'S': 1, 'a': 4, 'n': 2, 't': 2, ' ': 2, 'C': 1, 'l': 1, 'r': 2, 'U': 1, 'i': 2, 'v': 1, 'e': 1, 's': 1, 'y': 1}\n",
      "a appears most frequently\n"
     ]
    }
   ],
   "source": [
    "import operator\n",
    "def count(string):\n",
    "    word = {}\n",
    "    for i in string:\n",
    "        keys = word.keys()\n",
    "        if i in keys:\n",
    "            word[i] += 1\n",
    "        else:\n",
    "            word[i] = 1\n",
    "    print(word)\n",
    "    mostfrequent = max(word.items(), key=operator.itemgetter(1))[0]\n",
    "    return mostfrequent + \" appears most frequently\" \n",
    "\n",
    "\n",
    "print(count(\"Santa Clara University\"))"
   ]
  },
  {
   "cell_type": "code",
   "execution_count": 31,
   "id": "def3d985",
   "metadata": {},
   "outputs": [
    {
     "name": "stdout",
     "output_type": "stream",
     "text": [
      "15.0\n",
      "2.0\n"
     ]
    }
   ],
   "source": [
    "import math\n",
    "\n",
    "print(math.fsum([1,2,3,4,5]))\n",
    "\n",
    "print(math.fmod(20,3))"
   ]
  },
  {
   "cell_type": "code",
   "execution_count": null,
   "id": "4f4c1b4e",
   "metadata": {},
   "outputs": [],
   "source": []
  }
 ],
 "metadata": {
  "kernelspec": {
   "display_name": "Python 3 (ipykernel)",
   "language": "python",
   "name": "python3"
  },
  "language_info": {
   "codemirror_mode": {
    "name": "ipython",
    "version": 3
   },
   "file_extension": ".py",
   "mimetype": "text/x-python",
   "name": "python",
   "nbconvert_exporter": "python",
   "pygments_lexer": "ipython3",
   "version": "3.9.12"
  }
 },
 "nbformat": 4,
 "nbformat_minor": 5
}
