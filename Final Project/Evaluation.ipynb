{
 "cells": [
  {
   "cell_type": "code",
   "execution_count": 1,
   "id": "2b1952a3",
   "metadata": {},
   "outputs": [
    {
     "name": "stdout",
     "output_type": "stream",
     "text": [
      "     index                                         para_array  \\\n",
      "0      405  [\"'All\", 'the', \"same,'\", 'said', 'Frodo,', \"'...   \n",
      "1     1511  [\"'Dark\", \"times,'\", 'said', 'Strider.', \"'But...   \n",
      "2     2783  ['He', 'named', 'the', 'nameless', 'hills', 'a...   \n",
      "3     1936  ['`I', 'can', 'take', 'you', 'to', 'them,', \"s...   \n",
      "4     8506  ['With', 'a', 'long', 'knife', 'in', 'his', 'l...   \n",
      "..     ...                                                ...   \n",
      "863   1902  ['`What', 'would', 'they', 'have', 'done', 'to...   \n",
      "864   6049  ['`Which', 'way', 'do', 'we', 'go', 'from', \"h...   \n",
      "865   2175  ['`Then', 'it', 'belongs', 'to', 'you,', 'and'...   \n",
      "866   1421  ['The', 'landlord', 'jumped', 'with', 'surpris...   \n",
      "867    195  ['Frodo', 'took', 'the', 'envelope', 'from', '...   \n",
      "\n",
      "                                              para_raw              book  \\\n",
      "0    'All the same,' said Frodo, 'even if Bilbo cou...  Corpus\\lotr1.txt   \n",
      "1    'Dark times,' said Strider. 'But for the prese...  Corpus\\lotr1.txt   \n",
      "2               He named the nameless hills and dells;  Corpus\\lotr1.txt   \n",
      "3    `I can take you to them, sir,' said Sam. `It's...  Corpus\\lotr1.txt   \n",
      "4    With a long knife in his left hand and a club ...  Corpus\\lotr3.txt   \n",
      "..                                                 ...               ...   \n",
      "863  `What would they have done to me?' asked Frodo...  Corpus\\lotr1.txt   \n",
      "864  `Which way do we go from here?' asked Frodo. `...  Corpus\\lotr2.txt   \n",
      "865  `Then it belongs to you, and not to me at all!...  Corpus\\lotr1.txt   \n",
      "866  The landlord jumped with surprise. 'You!' he c...  Corpus\\lotr1.txt   \n",
      "867  Frodo took the envelope from the mantelpiece, ...  Corpus\\lotr1.txt   \n",
      "\n",
      "                                            test_input  \\\n",
      "0    'All the same,' said Frodo, 'even if Bilbo cou...   \n",
      "1    'Dark times,' said Strider. 'But for the prese...   \n",
      "2                      He named the nameless hills and   \n",
      "3    `I can take you to them, sir,' said Sam. `It's...   \n",
      "4    With a long knife in his left hand and a club ...   \n",
      "..                                                 ...   \n",
      "863  `What would they have done to me?' asked Frodo...   \n",
      "864  `Which way do we go from here?' asked Frodo. `...   \n",
      "865  `Then it belongs to you, and not to me at all!...   \n",
      "866  The landlord jumped with surprise. 'You!' he c...   \n",
      "867  Frodo took the envelope from the mantelpiece, ...   \n",
      "\n",
      "                                           gen_results  \n",
      "0    'All the same,' said Frodo, 'even if Bilbo cou...  \n",
      "1    'Dark times,' said Strider. 'But for the prese...  \n",
      "2    He named the nameless hills and the road paved...  \n",
      "3    `I can take you to them, sir,' said Sam. `It's...  \n",
      "4    With a long knife in his left hand and a club ...  \n",
      "..                                                 ...  \n",
      "863  `What would they have done to me?' asked Frodo...  \n",
      "864  `Which way do we go from here?' asked Frodo. `...  \n",
      "865  `Then it belongs to you, and not to me at all!...  \n",
      "866  The landlord jumped with surprise. 'You!' he c...  \n",
      "867  Frodo took the envelope from the mantelpiece, ...  \n",
      "\n",
      "[868 rows x 6 columns]\n"
     ]
    }
   ],
   "source": [
    "#FOLDER TO PULL DATA FROM\n",
    "FOLDER = 'Data4'\n",
    "\n",
    "from os.path import join\n",
    "import pandas as pd\n",
    "test_set = pd.read_csv(join(FOLDER,'test_set.csv'))\n",
    "print(test_set)"
   ]
  },
  {
   "cell_type": "code",
   "execution_count": 2,
   "id": "2548881f",
   "metadata": {},
   "outputs": [
    {
     "name": "stdout",
     "output_type": "stream",
     "text": [
      "123\n",
      "As they hesitated outside in the gloom, someone began singing a merry song inside, and many cheerful voices joined loudly in the chorus. They listened to this encouraging sound for a moment and then got off their ponies. The song ended and there was a burst of laughter and clapping.\n",
      "As they hesitated outside in the gloom, someone began singing a merry song inside, and many cheerful voices joined loudly in the chorus. They listened to this encouraging sound for a moment and then got off their ponies.<|endoftext|>\n",
      "159\n",
      "Tom's going home again water-lilies bringing.\n",
      "Tom's going home again water-lilies.<|endoftext|>\n",
      "160\n",
      "Hey now! merry dot! We'll be waiting for you!\n",
      "Hey now! merry dot! We'll be waiting!<|endoftext|>\n",
      "201\n",
      "`Here! Here is where the smoke came from! ' it said. `'Twill be nigh at hand. In the fern, no doubt. We shall have it like a coney in a trap. Then we shall learn what kind of thing it is.'\n",
      "`Here! Here is where the smoke came from!'it said. `'Twill be nigh at hand. In the fern, no doubt. We shall have it like a coney in a trap. '<|endoftext|>\n"
     ]
    }
   ],
   "source": [
    "true_end = []\n",
    "gen_end = []\n",
    "#print(len(test_set))\n",
    "for i in range(len(test_set)):\n",
    "    true_txt = ' '.join(test_set['para_raw'][i].split()[len(test_set['test_input'][i].split()):])\n",
    "    length = len(true_txt.split())\n",
    "    #true_end.append(true_txt)\n",
    "    gen_txt = (' '.join(test_set['gen_results'][i].split()[len(test_set['test_input'][i].split()):])).replace('<|endoftext|>','')\n",
    "    #gen_end.append(gen_txt)\n",
    "    \n",
    "    \n",
    "    #if len(gen_txt.split()) > length:\n",
    "        #gen_end.append(' '.join(gen_txt.split()[:length]))\n",
    "    #else:\n",
    "        #gen_end.append(gen_txt)\n",
    "    #print(len(gen_end[i]))\n",
    "    \n",
    "    \n",
    "    #remove any 0 length generated paragraphs (crashes ROUGE evaluations)\n",
    "    if len(gen_txt)==0:\n",
    "        print(i)\n",
    "        print(test_set['para_raw'][i])\n",
    "        print(test_set['gen_results'][i])\n",
    "\n",
    "    else:\n",
    "        true_end.append(true_txt)\n",
    "        gen_end.append(gen_txt)\n",
    "\n",
    "#print(true_end[0])\n",
    "#print(gen_end[0])"
   ]
  },
  {
   "cell_type": "code",
   "execution_count": 3,
   "id": "214aa6c9",
   "metadata": {
    "scrolled": false
   },
   "outputs": [
    {
     "name": "stdout",
     "output_type": "stream",
     "text": [
      "BLEU Score: 0.0001474130007937387\n"
     ]
    },
    {
     "name": "stderr",
     "output_type": "stream",
     "text": [
      "C:\\Users\\tofug\\anaconda3\\lib\\site-packages\\nltk\\translate\\bleu_score.py:552: UserWarning: \n",
      "The hypothesis contains 0 counts of 2-gram overlaps.\n",
      "Therefore the BLEU score evaluates to 0, independently of\n",
      "how many N-gram overlaps of lower order it contains.\n",
      "Consider using lower n-gram order or use SmoothingFunction()\n",
      "  warnings.warn(_msg)\n",
      "C:\\Users\\tofug\\anaconda3\\lib\\site-packages\\nltk\\translate\\bleu_score.py:552: UserWarning: \n",
      "The hypothesis contains 0 counts of 3-gram overlaps.\n",
      "Therefore the BLEU score evaluates to 0, independently of\n",
      "how many N-gram overlaps of lower order it contains.\n",
      "Consider using lower n-gram order or use SmoothingFunction()\n",
      "  warnings.warn(_msg)\n",
      "C:\\Users\\tofug\\anaconda3\\lib\\site-packages\\nltk\\translate\\bleu_score.py:552: UserWarning: \n",
      "The hypothesis contains 0 counts of 4-gram overlaps.\n",
      "Therefore the BLEU score evaluates to 0, independently of\n",
      "how many N-gram overlaps of lower order it contains.\n",
      "Consider using lower n-gram order or use SmoothingFunction()\n",
      "  warnings.warn(_msg)\n"
     ]
    }
   ],
   "source": [
    "#Using BLEU score to compare the real sentences with the generated ones\n",
    "#Greater BLEU = better model precision\n",
    "import statistics\n",
    "from nltk.translate.bleu_score import sentence_bleu\n",
    "\n",
    "scores=[]\n",
    "\n",
    "for i in range(len(true_end)):    \n",
    "    reference = [true_end[i].split()]\n",
    "    candidate = gen_end[i].split()\n",
    "    scores.append(sentence_bleu(reference, candidate))\n",
    "\n",
    "print('BLEU Score: ' + str(statistics.mean(scores)))"
   ]
  },
  {
   "cell_type": "code",
   "execution_count": 4,
   "id": "e58c07a9",
   "metadata": {},
   "outputs": [],
   "source": [
    "#!pip install rouge"
   ]
  },
  {
   "cell_type": "code",
   "execution_count": 5,
   "id": "c624ac5e",
   "metadata": {},
   "outputs": [
    {
     "name": "stdout",
     "output_type": "stream",
     "text": [
      "{'rouge-1': {'r': 0.15147869048439302, 'p': 0.10452780028726713, 'f': 0.10781417503811179}, 'rouge-2': {'r': 0.00806946680803901, 'p': 0.00597409888865647, 'f': 0.0061765010756484155}, 'rouge-l': {'r': 0.1388822800946444, 'p': 0.09354600332240146, 'f': 0.09682490237479795}}\n"
     ]
    }
   ],
   "source": [
    "import json\n",
    "from rouge import Rouge\n",
    "rouge = Rouge()\n",
    "\n",
    "#scores = rouge.get_scores(hyps, refs)\n",
    "scores = rouge.get_scores(gen_end, true_end, avg=True)\n",
    "print(scores)"
   ]
  },
  {
   "cell_type": "code",
   "execution_count": null,
   "id": "92498c85",
   "metadata": {},
   "outputs": [],
   "source": []
  }
 ],
 "metadata": {
  "kernelspec": {
   "display_name": "Python 3 (ipykernel)",
   "language": "python",
   "name": "python3"
  },
  "language_info": {
   "codemirror_mode": {
    "name": "ipython",
    "version": 3
   },
   "file_extension": ".py",
   "mimetype": "text/x-python",
   "name": "python",
   "nbconvert_exporter": "python",
   "pygments_lexer": "ipython3",
   "version": "3.9.13"
  }
 },
 "nbformat": 4,
 "nbformat_minor": 5
}
