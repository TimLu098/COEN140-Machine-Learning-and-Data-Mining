{
 "cells": [
  {
   "cell_type": "code",
   "execution_count": null,
   "id": "2346160e",
   "metadata": {},
   "outputs": [],
   "source": [
    "#VERSION 2 PREPROCESSING:\n",
    "#MERGE PARAGRAPHS < 200 WORDS LONG"
   ]
  },
  {
   "cell_type": "code",
   "execution_count": 1,
   "id": "2ad51a96",
   "metadata": {},
   "outputs": [
    {
     "name": "stdout",
     "output_type": "stream",
     "text": [
      "                                             para_array  \\\n",
      "0     [Three, Rings, for, the, Elven-kings, under, t...   \n",
      "1     [When, those, whose, advice, and, opinion, I, ...   \n",
      "2     [It, was, during, 1944, that,, leaving, the, l...   \n",
      "3     [As, for, any, inner, meaning, or, 'message',,...   \n",
      "4     [Other, arrangements, could, be, devised, acco...   \n",
      "...                                                 ...   \n",
      "5433  ['So, I, thought, too,, once., But, I, have, b...   \n",
      "5434  [Though, they, rode, through, the, midst, of, ...   \n",
      "5435  [But, Sam, was, now, sorrowful, at, heart,, an...   \n",
      "5436  [But, to, Sam, the, evening, deepened, to, dar...   \n",
      "5437  [He, drew, a, deep, breath., 'Well,, I'm, back...   \n",
      "\n",
      "                                               para_raw              book  \n",
      "0     Three Rings for the Elven-kings under the sky,...  Corpus\\lotr1.txt  \n",
      "1     When those whose advice and opinion I sought c...  Corpus\\lotr1.txt  \n",
      "2     It was during 1944 that, leaving the loose end...  Corpus\\lotr1.txt  \n",
      "3     As for any inner meaning or 'message', it has ...  Corpus\\lotr1.txt  \n",
      "4     Other arrangements could be devised according ...  Corpus\\lotr1.txt  \n",
      "...                                                 ...               ...  \n",
      "5433  'So I thought too, once. But I have been too d...  Corpus\\lotr3.txt  \n",
      "5434  Though they rode through the midst of the Shir...  Corpus\\lotr3.txt  \n",
      "5435  But Sam was now sorrowful at heart, and it see...  Corpus\\lotr3.txt  \n",
      "5436  But to Sam the evening deepened to darkness as...  Corpus\\lotr3.txt  \n",
      "5437  He drew a deep breath. 'Well, I'm back,' he said.  Corpus\\lotr3.txt  \n",
      "\n",
      "[5438 rows x 3 columns]\n"
     ]
    }
   ],
   "source": [
    "#[1]\n",
    "#SAVE LOCATION: CHANGE BETWEEN EACH TEST\n",
    "FOLDER = 'Data2'\n",
    "\n",
    "\n",
    "from os.path import join\n",
    "import pandas as pd\n",
    "\n",
    "train_corpus = [\n",
    "    #join('Corpus','lotr_test.txt') ]\n",
    "    join('Corpus','lotr1.txt'),\n",
    "    join('Corpus','lotr2.txt'),\n",
    "    join('Corpus','lotr3.txt')]\n",
    "    #join('corpus','the_hobbit.txt')]\n",
    "#print(data)\n",
    "corpus = {\n",
    "    'para_array' : [],\n",
    "    'para_raw' : [],\n",
    "    'book' : []\n",
    "}\n",
    "\n",
    "#maybe: set all words to lowercase? remove punctuation?\n",
    "#(may make our output more accurate)\n",
    "#combine short paragraphs into longer ones?\n",
    "\n",
    "filtered_para1 = []\n",
    "for book in train_corpus:\n",
    "    raw_txt = open(book, 'r').read()\n",
    "    raw_para = raw_txt.split('\\n')\n",
    "    #filtered_para2 = []\n",
    "    for i in range(len(raw_para)):\n",
    "        textblock = raw_para[i].strip() #remove white space\n",
    "        if len(textblock) < 30: #filter out chapter titles\n",
    "            pass\n",
    "        else: #we want our text blocks to be large enough to analyze\n",
    "            textblock = textblock.replace('_', '')\n",
    "            text = textblock.split(' ')\n",
    "            filtered_para1.append(text)\n",
    "    \n",
    "    for i in range(len(filtered_para1)):\n",
    "        if len(filtered_para1[i]) < 3: #filter out chapter titles/junk missed by first pass\n",
    "            pass\n",
    "        #append filtered_para1[i] to para_array if len(para_array) == 0\n",
    "        elif len(corpus['para_array']) == 0:\n",
    "            corpus['para_array'].append(filtered_para1[i])\n",
    "            corpus['book'].append(book)\n",
    "        #extend filtered_para1[i] to para_array[i] if len(para_array[len(filtered_para2)-1]) < 200\n",
    "        elif len(corpus['para_array'][len(corpus['para_array'])-1]) < 200:\n",
    "            corpus['para_array'][len(corpus['para_array'])-1].extend(filtered_para1[i])\n",
    "        #else append filtered_para[i] to para_array\n",
    "        else:\n",
    "            corpus['para_array'].append(filtered_para1[i])\n",
    "            corpus['book'].append(book)\n",
    "\n",
    "for elem in corpus['para_array']:\n",
    "    corpus['para_raw'].append(' '.join(elem))\n",
    "\n",
    "#for elem in corpus['para_array']:\n",
    "    #if len(elem) < 200:\n",
    "        #print(len(elem))\n",
    "        #print(elem)\n",
    "#print(len(corpus['paragraph']))\n",
    "#print((corpus['para_raw'][200]))\n",
    "\n",
    "corpus_df = pd.DataFrame.from_dict(corpus)\n",
    "print(corpus_df)"
   ]
  },
  {
   "cell_type": "code",
   "execution_count": 2,
   "id": "a93fb815",
   "metadata": {},
   "outputs": [
    {
     "name": "stdout",
     "output_type": "stream",
     "text": [
      "543\n"
     ]
    }
   ],
   "source": [
    "testlen = int(0.1*corpus_df.shape[0])\n",
    "print(testlen)"
   ]
  },
  {
   "cell_type": "code",
   "execution_count": 3,
   "id": "b0384413",
   "metadata": {},
   "outputs": [
    {
     "name": "stdout",
     "output_type": "stream",
     "text": [
      "     index                                         para_array  \\\n",
      "0      703  [Suddenly, the, River, swept, round, a, bend,,...   \n",
      "1     1006  [Long, ago, Gorhendad, Oldbuck,, head, of, the...   \n",
      "2     3021  ['Him?', said, the, landlord, in, an, answerin...   \n",
      "3     3225  ['Hail,, and, well, met, at, last!', said, the...   \n",
      "4      864  [Sam, sat, silent, and, said, no, more., He, h...   \n",
      "..     ...                                                ...   \n",
      "538   4313  ['After, him!', said, Théoden., 'See, that, he...   \n",
      "539     31  [At, Great, Smials, the, books, were, of, less...   \n",
      "540   2819  ['Where, is, he?', said, Frodo,, looking, roun...   \n",
      "541   2339  [`I, must, rest, a, while,, Sam,', whispered, ...   \n",
      "542   3989  [Soon, he, came, out, alone, on, the, summit, ...   \n",
      "\n",
      "                                              para_raw              book  \\\n",
      "0    Suddenly the River swept round a bend, and the...  Corpus\\lotr1.txt   \n",
      "1    Long ago Gorhendad Oldbuck, head of the Oldbuc...  Corpus\\lotr2.txt   \n",
      "2    'Him?' said the landlord in an answering whisp...  Corpus\\lotr3.txt   \n",
      "3    'Hail, and well met at last!' said the Elf-lor...  Corpus\\lotr3.txt   \n",
      "4    Sam sat silent and said no more. He had a good...  Corpus\\lotr2.txt   \n",
      "..                                                 ...               ...   \n",
      "538  'After him!' said Théoden. 'See that he does n...  Corpus\\lotr3.txt   \n",
      "539  At Great Smials the books were of less interes...  Corpus\\lotr1.txt   \n",
      "540  'Where is he?' said Frodo, looking round, as i...  Corpus\\lotr3.txt   \n",
      "541  `I must rest a while, Sam,' whispered Frodo. `...  Corpus\\lotr2.txt   \n",
      "542  Soon he came out alone on the summit of Amon H...  Corpus\\lotr3.txt   \n",
      "\n",
      "                                            test_input  \n",
      "0    Suddenly the River swept round a bend, and the...  \n",
      "1    Long ago Gorhendad Oldbuck, head of the Oldbuc...  \n",
      "2    'Him?' said the landlord in an answering whisp...  \n",
      "3    'Hail, and well met at last!' said the Elf-lor...  \n",
      "4    Sam sat silent and said no more. He had a good...  \n",
      "..                                                 ...  \n",
      "538  'After him!' said Théoden. 'See that he does n...  \n",
      "539  At Great Smials the books were of less interes...  \n",
      "540  'Where is he?' said Frodo, looking round, as i...  \n",
      "541  `I must rest a while, Sam,' whispered Frodo. `...  \n",
      "542  Soon he came out alone on the summit of Amon H...  \n",
      "\n",
      "[543 rows x 5 columns]\n",
      "      index                                         para_array  \\\n",
      "0         0  [Three, Rings, for, the, Elven-kings, under, t...   \n",
      "1         1  [When, those, whose, advice, and, opinion, I, ...   \n",
      "2         2  [It, was, during, 1944, that,, leaving, the, l...   \n",
      "3         3  [As, for, any, inner, meaning, or, 'message',,...   \n",
      "4         4  [Other, arrangements, could, be, devised, acco...   \n",
      "...     ...                                                ...   \n",
      "4890   5432  [Elrond, greeted, them, gravely, and, gracious...   \n",
      "4891   5433  ['So, I, thought, too,, once., But, I, have, b...   \n",
      "4892   5435  [But, Sam, was, now, sorrowful, at, heart,, an...   \n",
      "4893   5436  [But, to, Sam, the, evening, deepened, to, dar...   \n",
      "4894   5437  [He, drew, a, deep, breath., 'Well,, I'm, back...   \n",
      "\n",
      "                                               para_raw              book  \n",
      "0     Three Rings for the Elven-kings under the sky,...  Corpus\\lotr1.txt  \n",
      "1     When those whose advice and opinion I sought c...  Corpus\\lotr1.txt  \n",
      "2     It was during 1944 that, leaving the loose end...  Corpus\\lotr1.txt  \n",
      "3     As for any inner meaning or 'message', it has ...  Corpus\\lotr1.txt  \n",
      "4     Other arrangements could be devised according ...  Corpus\\lotr1.txt  \n",
      "...                                                 ...               ...  \n",
      "4890  Elrond greeted them gravely and graciously, an...  Corpus\\lotr3.txt  \n",
      "4891  'So I thought too, once. But I have been too d...  Corpus\\lotr3.txt  \n",
      "4892  But Sam was now sorrowful at heart, and it see...  Corpus\\lotr3.txt  \n",
      "4893  But to Sam the evening deepened to darkness as...  Corpus\\lotr3.txt  \n",
      "4894  He drew a deep breath. 'Well, I'm back,' he said.  Corpus\\lotr3.txt  \n",
      "\n",
      "[4895 rows x 4 columns]\n"
     ]
    }
   ],
   "source": [
    "#[4]\n",
    "\n",
    "#----Create a test set----\n",
    "test_set = corpus_df.sample(n = testlen)\n",
    "corpus_df = corpus_df.loc[~corpus_df.index.isin(test_set.index)]\n",
    "#print(test_set)\n",
    "#Reset the indexes\n",
    "test_set = test_set.reset_index()\n",
    "corpus_df = corpus_df.reset_index()\n",
    "#For the test set, move the last half of the words to a new column\n",
    "\n",
    "#test_set['para_raw'] = test_set['para_array'][:5].apply(' '.join)\n",
    "#print(test_set.shape)\n",
    "test_array = []\n",
    "for i in range(test_set.shape[0]):\n",
    "    cutoff = int(len(test_set['para_array'][i])/4)\n",
    "    test_input = ' '.join(test_set['para_array'][i][:-cutoff])\n",
    "    test_array.append(test_input)\n",
    "    #print(test_input)\n",
    "test_set['test_input'] = test_array\n",
    "#print(test_set['true_end_para'][0])\n",
    "#for i in range(test_set.shape[0]):\n",
    "    #print(test_set['test_input'][i])\n",
    "    #print(test_set['para_raw'][i])\n",
    "print(test_set)\n",
    "print(corpus_df)"
   ]
  },
  {
   "cell_type": "code",
   "execution_count": 4,
   "id": "6f7286af",
   "metadata": {},
   "outputs": [
    {
     "name": "stdout",
     "output_type": "stream",
     "text": [
      "saved to C:\\Users\\tofug\\Anaconda_Projects\\Coen 140\\final_project\\Data2\\corpus_df.csv\n",
      "saved to C:\\Users\\tofug\\Anaconda_Projects\\Coen 140\\final_project\\Data2\\test_set.csv\n"
     ]
    }
   ],
   "source": [
    "import os\n",
    "\n",
    "path = os.path.abspath(os.getcwd())\n",
    "#print(path)\n",
    "corpus_df.to_csv(join(path,FOLDER,'corpus_df.csv'))\n",
    "test_set.to_csv(join(path,FOLDER,'test_set.csv'))\n",
    "\n",
    "print(\"saved to \" + join(path, FOLDER, 'corpus_df.csv'))\n",
    "print(\"saved to \" + join(path, FOLDER, 'test_set.csv'))"
   ]
  },
  {
   "cell_type": "code",
   "execution_count": 5,
   "id": "7591d34d",
   "metadata": {},
   "outputs": [
    {
     "name": "stdout",
     "output_type": "stream",
     "text": [
      "     Unnamed: 0  index                                         para_array  \\\n",
      "0             0    703  ['Suddenly', 'the', 'River', 'swept', 'round',...   \n",
      "1             1   1006  ['Long', 'ago', 'Gorhendad', 'Oldbuck,', 'head...   \n",
      "2             2   3021  [\"'Him?'\", 'said', 'the', 'landlord', 'in', 'a...   \n",
      "3             3   3225  [\"'Hail,\", 'and', 'well', 'met', 'at', \"last!'...   \n",
      "4             4    864  ['Sam', 'sat', 'silent', 'and', 'said', 'no', ...   \n",
      "..          ...    ...                                                ...   \n",
      "538         538   4313  [\"'After\", \"him!'\", 'said', 'Théoden.', \"'See\"...   \n",
      "539         539     31  ['At', 'Great', 'Smials', 'the', 'books', 'wer...   \n",
      "540         540   2819  [\"'Where\", 'is', \"he?'\", 'said', 'Frodo,', 'lo...   \n",
      "541         541   2339  ['`I', 'must', 'rest', 'a', 'while,', \"Sam,'\",...   \n",
      "542         542   3989  ['Soon', 'he', 'came', 'out', 'alone', 'on', '...   \n",
      "\n",
      "                                              para_raw              book  \\\n",
      "0    Suddenly the River swept round a bend, and the...  Corpus\\lotr1.txt   \n",
      "1    Long ago Gorhendad Oldbuck, head of the Oldbuc...  Corpus\\lotr2.txt   \n",
      "2    'Him?' said the landlord in an answering whisp...  Corpus\\lotr3.txt   \n",
      "3    'Hail, and well met at last!' said the Elf-lor...  Corpus\\lotr3.txt   \n",
      "4    Sam sat silent and said no more. He had a good...  Corpus\\lotr2.txt   \n",
      "..                                                 ...               ...   \n",
      "538  'After him!' said Théoden. 'See that he does n...  Corpus\\lotr3.txt   \n",
      "539  At Great Smials the books were of less interes...  Corpus\\lotr1.txt   \n",
      "540  'Where is he?' said Frodo, looking round, as i...  Corpus\\lotr3.txt   \n",
      "541  `I must rest a while, Sam,' whispered Frodo. `...  Corpus\\lotr2.txt   \n",
      "542  Soon he came out alone on the summit of Amon H...  Corpus\\lotr3.txt   \n",
      "\n",
      "                                            test_input  \n",
      "0    Suddenly the River swept round a bend, and the...  \n",
      "1    Long ago Gorhendad Oldbuck, head of the Oldbuc...  \n",
      "2    'Him?' said the landlord in an answering whisp...  \n",
      "3    'Hail, and well met at last!' said the Elf-lor...  \n",
      "4    Sam sat silent and said no more. He had a good...  \n",
      "..                                                 ...  \n",
      "538  'After him!' said Théoden. 'See that he does n...  \n",
      "539  At Great Smials the books were of less interes...  \n",
      "540  'Where is he?' said Frodo, looking round, as i...  \n",
      "541  `I must rest a while, Sam,' whispered Frodo. `...  \n",
      "542  Soon he came out alone on the summit of Amon H...  \n",
      "\n",
      "[543 rows x 6 columns]\n",
      "      Unnamed: 0  index                                         para_array  \\\n",
      "0              0      0  ['Three', 'Rings', 'for', 'the', 'Elven-kings'...   \n",
      "1              1      1  ['When', 'those', 'whose', 'advice', 'and', 'o...   \n",
      "2              2      2  ['It', 'was', 'during', '1944', 'that,', 'leav...   \n",
      "3              3      3  ['As', 'for', 'any', 'inner', 'meaning', 'or',...   \n",
      "4              4      4  ['Other', 'arrangements', 'could', 'be', 'devi...   \n",
      "...          ...    ...                                                ...   \n",
      "4890        4890   5432  ['Elrond', 'greeted', 'them', 'gravely', 'and'...   \n",
      "4891        4891   5433  [\"'So\", 'I', 'thought', 'too,', 'once.', 'But'...   \n",
      "4892        4892   5435  ['But', 'Sam', 'was', 'now', 'sorrowful', 'at'...   \n",
      "4893        4893   5436  ['But', 'to', 'Sam', 'the', 'evening', 'deepen...   \n",
      "4894        4894   5437  ['He', 'drew', 'a', 'deep', 'breath.', \"'Well,...   \n",
      "\n",
      "                                               para_raw              book  \n",
      "0     Three Rings for the Elven-kings under the sky,...  Corpus\\lotr1.txt  \n",
      "1     When those whose advice and opinion I sought c...  Corpus\\lotr1.txt  \n",
      "2     It was during 1944 that, leaving the loose end...  Corpus\\lotr1.txt  \n",
      "3     As for any inner meaning or 'message', it has ...  Corpus\\lotr1.txt  \n",
      "4     Other arrangements could be devised according ...  Corpus\\lotr1.txt  \n",
      "...                                                 ...               ...  \n",
      "4890  Elrond greeted them gravely and graciously, an...  Corpus\\lotr3.txt  \n",
      "4891  'So I thought too, once. But I have been too d...  Corpus\\lotr3.txt  \n",
      "4892  But Sam was now sorrowful at heart, and it see...  Corpus\\lotr3.txt  \n",
      "4893  But to Sam the evening deepened to darkness as...  Corpus\\lotr3.txt  \n",
      "4894  He drew a deep breath. 'Well, I'm back,' he said.  Corpus\\lotr3.txt  \n",
      "\n",
      "[4895 rows x 5 columns]\n"
     ]
    }
   ],
   "source": [
    "#testing read_csv\n",
    "test1 = pd.read_csv(join(FOLDER,'test_set.csv'))\n",
    "test2 = pd.read_csv(join(FOLDER,'corpus_df.csv'))\n",
    "print(test1)\n",
    "print(test2)"
   ]
  },
  {
   "cell_type": "code",
   "execution_count": 6,
   "id": "2924a5f8",
   "metadata": {},
   "outputs": [
    {
     "name": "stdout",
     "output_type": "stream",
     "text": [
      "Suddenly the River swept round a bend, and the banks rose upon either side, and the light of Lórien was hidden. To that fair land Frodo never came again. The travellers now turned their faces to the journey; the sun was before them, and their eyes were dazzled, for all were filled with tears. Gimli wept openly. `I have looked the last upon that which was fairest,' he said to Legolas his companion. `Henceforward I will call nothing fair, unless it be her gift.' He put his hand to his breast. `Tell me, Legolas, why did I come on this Quest? Little did I know where the chief peril lay! Truly Elrond spoke, saying that we could not foresee what we might meet upon our road. Torment in the dark was the danger that I feared, and it did not hold me back. But I would not have come, had I known the danger of light and joy. Now I have taken my worst wound in this parting, even if I were to go this night straight to the Dark Lord. Alas for Gimli son of Glóin! ' `Nay! ' said Legolas. `Alas for us all! And for all that walk the world in these after-days. For such is the way of it: to find and lose, as it\n"
     ]
    }
   ],
   "source": [
    "print(test_set['test_input'][0])"
   ]
  },
  {
   "cell_type": "code",
   "execution_count": 7,
   "id": "c3aae222",
   "metadata": {},
   "outputs": [
    {
     "name": "stdout",
     "output_type": "stream",
     "text": [
      "Suddenly the River swept round a bend, and the banks rose upon either side, and the light of Lórien was hidden. To that fair land Frodo never came again. The travellers now turned their faces to the journey; the sun was before them, and their eyes were dazzled, for all were filled with tears. Gimli wept openly. `I have looked the last upon that which was fairest,' he said to Legolas his companion. `Henceforward I will call nothing fair, unless it be her gift.' He put his hand to his breast. `Tell me, Legolas, why did I come on this Quest? Little did I know where the chief peril lay! Truly Elrond spoke, saying that we could not foresee what we might meet upon our road. Torment in the dark was the danger that I feared, and it did not hold me back. But I would not have come, had I known the danger of light and joy. Now I have taken my worst wound in this parting, even if I were to go this night straight to the Dark Lord. Alas for Gimli son of Glóin! ' `Nay! ' said Legolas. `Alas for us all! And for all that walk the world in these after-days. For such is the way of it: to find and lose, as it\n"
     ]
    }
   ],
   "source": [
    "print(test1['test_input'][0])"
   ]
  },
  {
   "cell_type": "code",
   "execution_count": null,
   "id": "86920741",
   "metadata": {},
   "outputs": [],
   "source": []
  }
 ],
 "metadata": {
  "kernelspec": {
   "display_name": "Python 3 (ipykernel)",
   "language": "python",
   "name": "python3"
  },
  "language_info": {
   "codemirror_mode": {
    "name": "ipython",
    "version": 3
   },
   "file_extension": ".py",
   "mimetype": "text/x-python",
   "name": "python",
   "nbconvert_exporter": "python",
   "pygments_lexer": "ipython3",
   "version": "3.9.13"
  }
 },
 "nbformat": 4,
 "nbformat_minor": 5
}
