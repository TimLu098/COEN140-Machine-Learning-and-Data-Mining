{
 "cells": [
  {
   "cell_type": "code",
   "execution_count": 12,
   "id": "9fa603f1",
   "metadata": {},
   "outputs": [
    {
     "name": "stdout",
     "output_type": "stream",
     "text": [
      "Arr1:  [[1. 1. 1. ... 1. 1. 1.]\n",
      " [1. 1. 1. ... 1. 1. 1.]\n",
      " [1. 1. 1. ... 1. 1. 1.]\n",
      " ...\n",
      " [1. 1. 1. ... 1. 1. 1.]\n",
      " [1. 1. 1. ... 1. 1. 1.]\n",
      " [1. 1. 1. ... 1. 1. 1.]]\n",
      "Arr2:  [[1. 1. 1. ... 1. 1. 1.]\n",
      " [1. 1. 1. ... 1. 1. 1.]\n",
      " [1. 1. 1. ... 1. 1. 1.]\n",
      " ...\n",
      " [1. 1. 1. ... 1. 1. 1.]\n",
      " [1. 1. 1. ... 1. 1. 1.]\n",
      " [1. 1. 1. ... 1. 1. 1.]]\n",
      "1000\n",
      "Average:  0.049046875\n",
      "Standard Deviation:  0.007124158511281797\n"
     ]
    }
   ],
   "source": [
    "import time\n",
    "from time import process_time\n",
    "import numpy as np\n",
    "import statistics\n",
    "\n",
    "def loop(arr1,arr2):\n",
    "    new = np.empty([0,0])\n",
    "    start = process_time()\n",
    "    for i in range(100):\n",
    "        for j in range(100):\n",
    "            new = np.append(new, arr1[i][j] + arr2[i][j])\n",
    "    end = process_time()\n",
    "    total_time = end - start\n",
    "    arr_for_loop.append(total_time)\n",
    "    \n",
    "    \n",
    "arr1 = np.ones((100,100))\n",
    "arr2 = np.ones((100,100))\n",
    "print(\"Arr1: \", arr1)\n",
    "print(\"Arr2: \", arr2)\n",
    "arr_for_loop = []\n",
    "for i in range(1000):\n",
    "    loop(arr1,arr2)\n",
    "total = 0\n",
    "for j in arr_for_loop:\n",
    "    total += j\n",
    "average = total/1000\n",
    "print(len(arr_for_loop))\n",
    "print(\"Average: \", average)\n",
    "print(\"Standard Deviation: \", statistics.stdev(arr_for_loop,average))"
   ]
  },
  {
   "cell_type": "code",
   "execution_count": 5,
   "id": "51e1f97d",
   "metadata": {},
   "outputs": [
    {
     "data": {
      "image/png": "[encoded data removed]",
      "text/plain": [
       "<Figure size 432x288 with 1 Axes>"
      ]
     },
     "metadata": {
      "needs_background": "light"
     },
     "output_type": "display_data"
    }
   ],
   "source": [
    "from matplotlib import pyplot as plt\n",
    "plt.hist(arr_for_loop, bins = 100)\n",
    "plt.title(\"The double for loop graph\")\n",
    "plt.xlabel('Seconds')\n",
    "plt.ylabel('Frequencies')\n",
    "plt.show()"
   ]
  },
  {
   "cell_type": "code",
   "execution_count": 9,
   "id": "5d03c6f7",
   "metadata": {},
   "outputs": [
    {
     "name": "stdout",
     "output_type": "stream",
     "text": [
      "Arr1:  [[1. 1. 1. ... 1. 1. 1.]\n",
      " [1. 1. 1. ... 1. 1. 1.]\n",
      " [1. 1. 1. ... 1. 1. 1.]\n",
      " ...\n",
      " [1. 1. 1. ... 1. 1. 1.]\n",
      " [1. 1. 1. ... 1. 1. 1.]\n",
      " [1. 1. 1. ... 1. 1. 1.]]\n",
      "Arr2:  [[1. 1. 1. ... 1. 1. 1.]\n",
      " [1. 1. 1. ... 1. 1. 1.]\n",
      " [1. 1. 1. ... 1. 1. 1.]\n",
      " ...\n",
      " [1. 1. 1. ... 1. 1. 1.]\n",
      " [1. 1. 1. ... 1. 1. 1.]\n",
      " [1. 1. 1. ... 1. 1. 1.]]\n",
      "1000\n",
      "Average:  1.5625e-05\n",
      "Standard Deviation:  0.0004941058844013092\n"
     ]
    }
   ],
   "source": [
    "def operator_method(arr1,arr2):\n",
    "    start = process_time()\n",
    "    new_arr = arr1 + arr2\n",
    "    end = process_time()\n",
    "    total_time2 = end - start\n",
    "    \n",
    "    arr_operator.append(total_time2)\n",
    "print(\"Arr1: \", arr1)\n",
    "print(\"Arr2: \", arr2)\n",
    "arr_operator = []\n",
    "for i in range(1000): \n",
    "    operator_method(arr1,arr2)\n",
    "total2 = 0\n",
    "for j in arr_operator:\n",
    "    total2 += j\n",
    "average2 = total2/1000\n",
    "print(len(arr_operator))\n",
    "print(\"Average: \", average2)\n",
    "print(\"Standard Deviation: \", statistics.stdev(arr_operator,average2))\n",
    "\n"
   ]
  },
  {
   "cell_type": "code",
   "execution_count": 10,
   "id": "2afe6c2e",
   "metadata": {},
   "outputs": [
    {
     "data": {
      "image/png": "[encoded data removed]",
      "text/plain": [
       "<Figure size 432x288 with 1 Axes>"
      ]
     },
     "metadata": {
      "needs_background": "light"
     },
     "output_type": "display_data"
    }
   ],
   "source": [
    "from matplotlib import pyplot as plt\n",
    "plt.hist(arr_operator)\n",
    "plt.title(\"+ operator graph\")\n",
    "plt.xlabel('Seconds')\n",
    "plt.ylabel('Frequencies')\n",
    "plt.show()"
   ]
  },
  {
   "cell_type": "code",
   "execution_count": 77,
   "id": "a0f3bc20",
   "metadata": {},
   "outputs": [
    {
     "name": "stdout",
     "output_type": "stream",
     "text": [
      "Enter value in kilometers: 30\n",
      "30.00 kilometers is equal to 18.64 miles\n"
     ]
    }
   ],
   "source": [
    "#This program allowed users to enter value in km and convert them into miles\n",
    "kilometers = float(input(\"Enter value in kilometers: \"))\n",
    "\n",
    "# conversion factor\n",
    "conv_factor = 0.621371\n",
    "\n",
    "# calculate miles\n",
    "miles = kilometers * conv_factor\n",
    "print('%0.2f kilometers is equal to %0.2f miles' %(kilometers,miles))"
   ]
  },
  {
   "cell_type": "code",
   "execution_count": null,
   "id": "b77d8462",
   "metadata": {},
   "outputs": [],
   "source": []
  }
 ],
 "metadata": {
  "kernelspec": {
   "display_name": "Python 3 (ipykernel)",
   "language": "python",
   "name": "python3"
  },
  "language_info": {
   "codemirror_mode": {
    "name": "ipython",
    "version": 3
   },
   "file_extension": ".py",
   "mimetype": "text/x-python",
   "name": "python",
   "nbconvert_exporter": "python",
   "pygments_lexer": "ipython3",
   "version": "3.9.12"
  }
 },
 "nbformat": 4,
 "nbformat_minor": 5
}
